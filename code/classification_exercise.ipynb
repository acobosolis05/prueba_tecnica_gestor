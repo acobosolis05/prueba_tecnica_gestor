{
 "cells": [
  {
   "cell_type": "markdown",
   "id": "90635131",
   "metadata": {},
   "source": [
    "## EJERCICIO 2 CLASIFICACIÓN\n",
    "Deberá entrenar un modelo de clasificación para generar las respuestas que hará el servicio."
   ]
  },
  {
   "cell_type": "markdown",
   "id": "a1ea9a86",
   "metadata": {},
   "source": [
    "### IMPORTAR LIBRERIAS"
   ]
  },
  {
   "cell_type": "code",
   "execution_count": 1,
   "id": "2c16b50c",
   "metadata": {},
   "outputs": [],
   "source": [
    "import pandas as pd\n",
    "import numpy as np\n",
    "import matplotlib.pyplot as plt\n",
    "import seaborn as sns\n",
    "import os\n",
    "\n",
    "from sklearn.preprocessing import StandardScaler, LabelEncoder\n",
    "from sklearn.model_selection import train_test_split, cross_val_score, GridSearchCV\n",
    "from sklearn.ensemble import RandomForestClassifier\n",
    "from sklearn.svm import SVC\n",
    "from sklearn.metrics import accuracy_score, f1_score, confusion_matrix\n",
    "\n",
    "from imblearn.over_sampling import SMOTE\n",
    "from xgboost import XGBClassifier\n",
    "\n",
    "from config.config_file import PATH_ALFA_BETHA_FILE, PATH_CLASSIFIER_MODEL, PATH_SCALER_MODEL"
   ]
  },
  {
   "cell_type": "code",
   "execution_count": 2,
   "id": "a7b7a9d4",
   "metadata": {},
   "outputs": [
    {
     "data": {
      "text/html": [
       "<div>\n",
       "<style scoped>\n",
       "    .dataframe tbody tr th:only-of-type {\n",
       "        vertical-align: middle;\n",
       "    }\n",
       "\n",
       "    .dataframe tbody tr th {\n",
       "        vertical-align: top;\n",
       "    }\n",
       "\n",
       "    .dataframe thead th {\n",
       "        text-align: right;\n",
       "    }\n",
       "</style>\n",
       "<table border=\"1\" class=\"dataframe\">\n",
       "  <thead>\n",
       "    <tr style=\"text-align: right;\">\n",
       "      <th></th>\n",
       "      <th>autoID</th>\n",
       "      <th>SeniorCity</th>\n",
       "      <th>Partner</th>\n",
       "      <th>Dependents</th>\n",
       "      <th>Service1</th>\n",
       "      <th>Service2</th>\n",
       "      <th>Security</th>\n",
       "      <th>OnlineBackup</th>\n",
       "      <th>DeviceProtection</th>\n",
       "      <th>TechSupport</th>\n",
       "      <th>Contract</th>\n",
       "      <th>PaperlessBilling</th>\n",
       "      <th>PaymentMethod</th>\n",
       "      <th>Charges</th>\n",
       "      <th>Demand</th>\n",
       "      <th>Class</th>\n",
       "    </tr>\n",
       "  </thead>\n",
       "  <tbody>\n",
       "    <tr>\n",
       "      <th>0</th>\n",
       "      <td>7590-VHVEG</td>\n",
       "      <td>0</td>\n",
       "      <td>Yes</td>\n",
       "      <td>No</td>\n",
       "      <td>No</td>\n",
       "      <td>No phone service</td>\n",
       "      <td>No</td>\n",
       "      <td>Yes</td>\n",
       "      <td>No</td>\n",
       "      <td>No</td>\n",
       "      <td>Month-to-month</td>\n",
       "      <td>Yes</td>\n",
       "      <td>Electronic check</td>\n",
       "      <td>29.85</td>\n",
       "      <td>29.85</td>\n",
       "      <td>Alpha</td>\n",
       "    </tr>\n",
       "    <tr>\n",
       "      <th>1</th>\n",
       "      <td>5575-GNVDE</td>\n",
       "      <td>0</td>\n",
       "      <td>No</td>\n",
       "      <td>No</td>\n",
       "      <td>Yes</td>\n",
       "      <td>No</td>\n",
       "      <td>Yes</td>\n",
       "      <td>No</td>\n",
       "      <td>Yes</td>\n",
       "      <td>No</td>\n",
       "      <td>One year</td>\n",
       "      <td>No</td>\n",
       "      <td>Mailed check</td>\n",
       "      <td>56.95</td>\n",
       "      <td>1889.5</td>\n",
       "      <td>Alpha</td>\n",
       "    </tr>\n",
       "    <tr>\n",
       "      <th>2</th>\n",
       "      <td>3668-QPYBK</td>\n",
       "      <td>0</td>\n",
       "      <td>No</td>\n",
       "      <td>No</td>\n",
       "      <td>Yes</td>\n",
       "      <td>No</td>\n",
       "      <td>Yes</td>\n",
       "      <td>Yes</td>\n",
       "      <td>No</td>\n",
       "      <td>No</td>\n",
       "      <td>Month-to-month</td>\n",
       "      <td>Yes</td>\n",
       "      <td>Mailed check</td>\n",
       "      <td>53.85</td>\n",
       "      <td>108.15</td>\n",
       "      <td>Betha</td>\n",
       "    </tr>\n",
       "    <tr>\n",
       "      <th>3</th>\n",
       "      <td>7795-CFOCW</td>\n",
       "      <td>0</td>\n",
       "      <td>No</td>\n",
       "      <td>No</td>\n",
       "      <td>No</td>\n",
       "      <td>No phone service</td>\n",
       "      <td>Yes</td>\n",
       "      <td>No</td>\n",
       "      <td>Yes</td>\n",
       "      <td>Yes</td>\n",
       "      <td>One year</td>\n",
       "      <td>No</td>\n",
       "      <td>Bank transfer (automatic)</td>\n",
       "      <td>42.30</td>\n",
       "      <td>1840.75</td>\n",
       "      <td>Alpha</td>\n",
       "    </tr>\n",
       "    <tr>\n",
       "      <th>4</th>\n",
       "      <td>9237-HQITU</td>\n",
       "      <td>0</td>\n",
       "      <td>No</td>\n",
       "      <td>No</td>\n",
       "      <td>Yes</td>\n",
       "      <td>No</td>\n",
       "      <td>No</td>\n",
       "      <td>No</td>\n",
       "      <td>No</td>\n",
       "      <td>No</td>\n",
       "      <td>Month-to-month</td>\n",
       "      <td>Yes</td>\n",
       "      <td>Electronic check</td>\n",
       "      <td>70.70</td>\n",
       "      <td>151.65</td>\n",
       "      <td>Betha</td>\n",
       "    </tr>\n",
       "  </tbody>\n",
       "</table>\n",
       "</div>"
      ],
      "text/plain": [
       "       autoID  SeniorCity Partner Dependents Service1          Service2  \\\n",
       "0  7590-VHVEG           0     Yes         No       No  No phone service   \n",
       "1  5575-GNVDE           0      No         No      Yes                No   \n",
       "2  3668-QPYBK           0      No         No      Yes                No   \n",
       "3  7795-CFOCW           0      No         No       No  No phone service   \n",
       "4  9237-HQITU           0      No         No      Yes                No   \n",
       "\n",
       "  Security OnlineBackup DeviceProtection TechSupport        Contract  \\\n",
       "0       No          Yes               No          No  Month-to-month   \n",
       "1      Yes           No              Yes          No        One year   \n",
       "2      Yes          Yes               No          No  Month-to-month   \n",
       "3      Yes           No              Yes         Yes        One year   \n",
       "4       No           No               No          No  Month-to-month   \n",
       "\n",
       "  PaperlessBilling              PaymentMethod  Charges   Demand  Class  \n",
       "0              Yes           Electronic check    29.85    29.85  Alpha  \n",
       "1               No               Mailed check    56.95   1889.5  Alpha  \n",
       "2              Yes               Mailed check    53.85   108.15  Betha  \n",
       "3               No  Bank transfer (automatic)    42.30  1840.75  Alpha  \n",
       "4              Yes           Electronic check    70.70   151.65  Betha  "
      ]
     },
     "execution_count": 2,
     "metadata": {},
     "output_type": "execute_result"
    }
   ],
   "source": [
    "data = pd.read_csv(PATH_ALFA_BETHA_FILE, sep=',')\n",
    "data.head()"
   ]
  },
  {
   "cell_type": "code",
   "execution_count": 3,
   "id": "08743389",
   "metadata": {},
   "outputs": [
    {
     "data": {
      "text/plain": [
       "Index(['autoID', 'SeniorCity', 'Partner', 'Dependents', 'Service1', 'Service2',\n",
       "       'Security', 'OnlineBackup', 'DeviceProtection', 'TechSupport',\n",
       "       'Contract', 'PaperlessBilling', 'PaymentMethod', 'Charges', 'Demand',\n",
       "       'Class'],\n",
       "      dtype='object')"
      ]
     },
     "execution_count": 3,
     "metadata": {},
     "output_type": "execute_result"
    }
   ],
   "source": [
    "data.columns"
   ]
  },
  {
   "cell_type": "markdown",
   "id": "72ebf5e5",
   "metadata": {},
   "source": [
    "#### Verificación de tipo de datos y estadística básica"
   ]
  },
  {
   "cell_type": "code",
   "execution_count": 4,
   "id": "ff07dc56",
   "metadata": {},
   "outputs": [
    {
     "data": {
      "text/plain": [
       "autoID               object\n",
       "SeniorCity            int64\n",
       "Partner              object\n",
       "Dependents           object\n",
       "Service1             object\n",
       "Service2             object\n",
       "Security             object\n",
       "OnlineBackup         object\n",
       "DeviceProtection     object\n",
       "TechSupport          object\n",
       "Contract             object\n",
       "PaperlessBilling     object\n",
       "PaymentMethod        object\n",
       "Charges             float64\n",
       "Demand               object\n",
       "Class                object\n",
       "dtype: object"
      ]
     },
     "execution_count": 4,
     "metadata": {},
     "output_type": "execute_result"
    }
   ],
   "source": [
    "data.dtypes"
   ]
  },
  {
   "cell_type": "code",
   "execution_count": 5,
   "id": "2f4c6fb5",
   "metadata": {},
   "outputs": [
    {
     "name": "stdout",
     "output_type": "stream",
     "text": [
      "\n",
      "Estadística de datos en el DataFrame:\n"
     ]
    },
    {
     "data": {
      "text/html": [
       "<div>\n",
       "<style scoped>\n",
       "    .dataframe tbody tr th:only-of-type {\n",
       "        vertical-align: middle;\n",
       "    }\n",
       "\n",
       "    .dataframe tbody tr th {\n",
       "        vertical-align: top;\n",
       "    }\n",
       "\n",
       "    .dataframe thead th {\n",
       "        text-align: right;\n",
       "    }\n",
       "</style>\n",
       "<table border=\"1\" class=\"dataframe\">\n",
       "  <thead>\n",
       "    <tr style=\"text-align: right;\">\n",
       "      <th></th>\n",
       "      <th>SeniorCity</th>\n",
       "      <th>Charges</th>\n",
       "    </tr>\n",
       "  </thead>\n",
       "  <tbody>\n",
       "    <tr>\n",
       "      <th>count</th>\n",
       "      <td>7043.000000</td>\n",
       "      <td>7043.000000</td>\n",
       "    </tr>\n",
       "    <tr>\n",
       "      <th>mean</th>\n",
       "      <td>0.162147</td>\n",
       "      <td>64.761692</td>\n",
       "    </tr>\n",
       "    <tr>\n",
       "      <th>std</th>\n",
       "      <td>0.368612</td>\n",
       "      <td>30.090047</td>\n",
       "    </tr>\n",
       "    <tr>\n",
       "      <th>min</th>\n",
       "      <td>0.000000</td>\n",
       "      <td>18.250000</td>\n",
       "    </tr>\n",
       "    <tr>\n",
       "      <th>25%</th>\n",
       "      <td>0.000000</td>\n",
       "      <td>35.500000</td>\n",
       "    </tr>\n",
       "    <tr>\n",
       "      <th>50%</th>\n",
       "      <td>0.000000</td>\n",
       "      <td>70.350000</td>\n",
       "    </tr>\n",
       "    <tr>\n",
       "      <th>75%</th>\n",
       "      <td>0.000000</td>\n",
       "      <td>89.850000</td>\n",
       "    </tr>\n",
       "    <tr>\n",
       "      <th>max</th>\n",
       "      <td>1.000000</td>\n",
       "      <td>118.750000</td>\n",
       "    </tr>\n",
       "  </tbody>\n",
       "</table>\n",
       "</div>"
      ],
      "text/plain": [
       "        SeniorCity      Charges\n",
       "count  7043.000000  7043.000000\n",
       "mean      0.162147    64.761692\n",
       "std       0.368612    30.090047\n",
       "min       0.000000    18.250000\n",
       "25%       0.000000    35.500000\n",
       "50%       0.000000    70.350000\n",
       "75%       0.000000    89.850000\n",
       "max       1.000000   118.750000"
      ]
     },
     "execution_count": 5,
     "metadata": {},
     "output_type": "execute_result"
    }
   ],
   "source": [
    "print('\\nEstadística de datos en el DataFrame:')  \n",
    "data.describe()"
   ]
  },
  {
   "cell_type": "markdown",
   "id": "2320ac42",
   "metadata": {},
   "source": [
    "#### Verificación de datos nulos/faltantes"
   ]
  },
  {
   "cell_type": "code",
   "execution_count": 6,
   "id": "12705ef5",
   "metadata": {},
   "outputs": [
    {
     "name": "stdout",
     "output_type": "stream",
     "text": [
      "Datos nulos por columna:\n",
      "autoID              0\n",
      "SeniorCity          0\n",
      "Partner             0\n",
      "Dependents          0\n",
      "Service1            0\n",
      "Service2            0\n",
      "Security            0\n",
      "OnlineBackup        0\n",
      "DeviceProtection    0\n",
      "TechSupport         0\n",
      "Contract            0\n",
      "PaperlessBilling    0\n",
      "PaymentMethod       0\n",
      "Charges             0\n",
      "Demand              0\n",
      "Class               0\n",
      "dtype: int64\n"
     ]
    }
   ],
   "source": [
    "print(\"Datos nulos por columna:\")\n",
    "print(data.isnull().sum())"
   ]
  },
  {
   "cell_type": "markdown",
   "id": "32c04710",
   "metadata": {},
   "source": [
    "### DESCRIPCIÓN DEL DATASET"
   ]
  },
  {
   "cell_type": "code",
   "execution_count": 7,
   "id": "41263613",
   "metadata": {},
   "outputs": [
    {
     "name": "stdout",
     "output_type": "stream",
     "text": [
      "columna:  autoID\n",
      "Número devalores únicos: 7043\n",
      "Valores únicos: ['7590-VHVEG' '5575-GNVDE' '3668-QPYBK' '7795-CFOCW' '9237-HQITU'\n",
      " '9305-CDSKC' '1452-KIOVK' '6713-OKOMC' '7892-POOKP' '6388-TABGU']\n",
      "--------------------------------------------------\n",
      "columna:  SeniorCity\n",
      "Número devalores únicos: 2\n",
      "Valores únicos: [0 1]\n",
      "--------------------------------------------------\n",
      "columna:  Partner\n",
      "Número devalores únicos: 2\n",
      "Valores únicos: ['Yes' 'No']\n",
      "--------------------------------------------------\n",
      "columna:  Dependents\n",
      "Número devalores únicos: 2\n",
      "Valores únicos: ['No' 'Yes']\n",
      "--------------------------------------------------\n",
      "columna:  Service1\n",
      "Número devalores únicos: 2\n",
      "Valores únicos: ['No' 'Yes']\n",
      "--------------------------------------------------\n",
      "columna:  Service2\n",
      "Número devalores únicos: 3\n",
      "Valores únicos: ['No phone service' 'No' 'Yes']\n",
      "--------------------------------------------------\n",
      "columna:  Security\n",
      "Número devalores únicos: 3\n",
      "Valores únicos: ['No' 'Yes' 'No internet service']\n",
      "--------------------------------------------------\n",
      "columna:  OnlineBackup\n",
      "Número devalores únicos: 3\n",
      "Valores únicos: ['Yes' 'No' 'No internet service']\n",
      "--------------------------------------------------\n",
      "columna:  DeviceProtection\n",
      "Número devalores únicos: 3\n",
      "Valores únicos: ['No' 'Yes' 'No internet service']\n",
      "--------------------------------------------------\n",
      "columna:  TechSupport\n",
      "Número devalores únicos: 3\n",
      "Valores únicos: ['No' 'Yes' 'No internet service']\n",
      "--------------------------------------------------\n",
      "columna:  Contract\n",
      "Número devalores únicos: 3\n",
      "Valores únicos: ['Month-to-month' 'One year' 'Two year']\n",
      "--------------------------------------------------\n",
      "columna:  PaperlessBilling\n",
      "Número devalores únicos: 2\n",
      "Valores únicos: ['Yes' 'No']\n",
      "--------------------------------------------------\n",
      "columna:  PaymentMethod\n",
      "Número devalores únicos: 4\n",
      "Valores únicos: ['Electronic check' 'Mailed check' 'Bank transfer (automatic)'\n",
      " 'Credit card (automatic)']\n",
      "--------------------------------------------------\n",
      "columna:  Charges\n",
      "Número devalores únicos: 1585\n",
      "Valores únicos: [ 29.85  56.95  53.85  42.3   70.7   99.65  89.1   29.75 104.8   56.15]\n",
      "--------------------------------------------------\n",
      "columna:  Demand\n",
      "Número devalores únicos: 6531\n",
      "Valores únicos: ['29.85' '1889.5' '108.15' '1840.75' '151.65' '820.5' '1949.4' '301.9'\n",
      " '3046.05' '3487.95']\n",
      "--------------------------------------------------\n",
      "columna:  Class\n",
      "Número devalores únicos: 2\n",
      "Valores únicos: ['Alpha' 'Betha']\n",
      "--------------------------------------------------\n"
     ]
    }
   ],
   "source": [
    "unique_values = {col : data[col].unique() for col in data.columns}\n",
    "for col, values in unique_values.items():\n",
    "    print(f'columna:  {col}')\n",
    "    print(f'Número devalores únicos: {len(values)}')\n",
    "    print(f'Valores únicos: {values[:10]}')\n",
    "    print('-' *50)"
   ]
  },
  {
   "cell_type": "markdown",
   "id": "77c7b421",
   "metadata": {},
   "source": [
    "### Los datos contenidos en la tabla presentan:\n",
    "7043 rows × 15 columns\n",
    "| **Campo**          | **Descripción**                                      | **Tipo de dato**  |\n",
    "|--------------------|------------------------------------------------------|-------------------|\n",
    "| autoID            | Identificador único                                  | `object`            |\n",
    "| SeniorCity        | Valores booleanos (0 y 1)                            | `int64`        |\n",
    "| Partner          | Indica si tiene pareja (yes/no)                       | `object`         |\n",
    "| Dependents        | Indica si tiene dependientes (yes/no)                 | `object`         |\n",
    "| Service1         | Servicio activado (yes/no)                             | `object`         |\n",
    "| Service2         | Servicio activado (yes/no/'No phone service')          | `object`         |\n",
    "| Security         | Seguridad activada (yes/no/'No internet service')      | `object`         |\n",
    "| OnlineBackup     | Estado del respaldo en línea ('Yes'/'No'/'No internet service') | `object`         |\n",
    "| DeviceProtection | Protección del dispositivo ('Yes'/'No'/'No internet service') | `object`         |\n",
    "| TechSupport      | Soporte técnico disponible ('Yes'/'No'/'No internet service') | `object`         |\n",
    "| Contract        | Tipo de contrato ('Month-to-month'/'One year'/'Two year') | `object`         |\n",
    "| PaperlessBilling | Facturación sin papel ('Yes'/'No')                     | `object`         |\n",
    "| PaymentMethod   | Método de pago ('Electronic check', 'Mailed check', 'Bank transfer (automatic)', 'Credit card (automatic)') | `object`         |\n",
    "| Charges        | Costos asociados                                       | `float`            |\n",
    "| Demand        | Nivel de demanda estimado                                | `object`            |\n",
    "| Class          | Clasificación ('Alpha'/'Betha')                         | `object`         |\n"
   ]
  },
  {
   "cell_type": "code",
   "execution_count": 8,
   "id": "b05e6957",
   "metadata": {},
   "outputs": [
    {
     "name": "stdout",
     "output_type": "stream",
     "text": [
      "<class 'pandas.core.frame.DataFrame'>\n",
      "RangeIndex: 7043 entries, 0 to 7042\n",
      "Data columns (total 16 columns):\n",
      " #   Column            Non-Null Count  Dtype  \n",
      "---  ------            --------------  -----  \n",
      " 0   autoID            7043 non-null   object \n",
      " 1   SeniorCity        7043 non-null   int64  \n",
      " 2   Partner           7043 non-null   object \n",
      " 3   Dependents        7043 non-null   object \n",
      " 4   Service1          7043 non-null   object \n",
      " 5   Service2          7043 non-null   object \n",
      " 6   Security          7043 non-null   object \n",
      " 7   OnlineBackup      7043 non-null   object \n",
      " 8   DeviceProtection  7043 non-null   object \n",
      " 9   TechSupport       7043 non-null   object \n",
      " 10  Contract          7043 non-null   object \n",
      " 11  PaperlessBilling  7043 non-null   object \n",
      " 12  PaymentMethod     7043 non-null   object \n",
      " 13  Charges           7043 non-null   float64\n",
      " 14  Demand            7043 non-null   object \n",
      " 15  Class             7043 non-null   object \n",
      "dtypes: float64(1), int64(1), object(14)\n",
      "memory usage: 880.5+ KB\n"
     ]
    }
   ],
   "source": [
    "data.info()"
   ]
  },
  {
   "cell_type": "markdown",
   "id": "028d5c09",
   "metadata": {},
   "source": [
    "Demand está como un object se debe transformar a un número con punto flotante (float)"
   ]
  },
  {
   "cell_type": "code",
   "execution_count": 9,
   "id": "c254e964",
   "metadata": {},
   "outputs": [
    {
     "data": {
      "text/plain": [
       "dtype('float64')"
      ]
     },
     "execution_count": 9,
     "metadata": {},
     "output_type": "execute_result"
    }
   ],
   "source": [
    "data['Demand'] = data['Demand'].replace(' ', 0).astype(float)\n",
    "data['Demand'].dtype"
   ]
  },
  {
   "cell_type": "code",
   "execution_count": 10,
   "id": "64222414",
   "metadata": {},
   "outputs": [
    {
     "name": "stdout",
     "output_type": "stream",
     "text": [
      "<class 'pandas.core.frame.DataFrame'>\n",
      "RangeIndex: 7043 entries, 0 to 7042\n",
      "Data columns (total 16 columns):\n",
      " #   Column            Non-Null Count  Dtype  \n",
      "---  ------            --------------  -----  \n",
      " 0   autoID            7043 non-null   object \n",
      " 1   SeniorCity        7043 non-null   int64  \n",
      " 2   Partner           7043 non-null   object \n",
      " 3   Dependents        7043 non-null   object \n",
      " 4   Service1          7043 non-null   object \n",
      " 5   Service2          7043 non-null   object \n",
      " 6   Security          7043 non-null   object \n",
      " 7   OnlineBackup      7043 non-null   object \n",
      " 8   DeviceProtection  7043 non-null   object \n",
      " 9   TechSupport       7043 non-null   object \n",
      " 10  Contract          7043 non-null   object \n",
      " 11  PaperlessBilling  7043 non-null   object \n",
      " 12  PaymentMethod     7043 non-null   object \n",
      " 13  Charges           7043 non-null   float64\n",
      " 14  Demand            7043 non-null   float64\n",
      " 15  Class             7043 non-null   object \n",
      "dtypes: float64(2), int64(1), object(13)\n",
      "memory usage: 880.5+ KB\n"
     ]
    }
   ],
   "source": [
    "data.info()"
   ]
  },
  {
   "cell_type": "markdown",
   "id": "800787cc",
   "metadata": {},
   "source": [
    "### Los datos contenidos en la tabla actualizados:\n",
    "7043 rows × 15 columns\n",
    "| **Campo**          | **Descripción**                                      | **Tipo de dato**  |\n",
    "|--------------------|------------------------------------------------------|-------------------|\n",
    "| autoID            | Identificador único                                  | `object`            |\n",
    "| SeniorCity        | Valores booleanos (0 y 1)                            | `int64`        |\n",
    "| Partner          | Indica si tiene pareja (yes/no)                       | `object`         |\n",
    "| Dependents        | Indica si tiene dependientes (yes/no)                 | `object`         |\n",
    "| Service1         | Servicio activado (yes/no)                             | `object`         |\n",
    "| Service2         | Servicio activado (yes/no/'No phone service')          | `object`         |\n",
    "| Security         | Seguridad activada (yes/no/'No internet service')      | `object`         |\n",
    "| OnlineBackup     | Estado del respaldo en línea ('Yes'/'No'/'No internet service') | `object`         |\n",
    "| DeviceProtection | Protección del dispositivo ('Yes'/'No'/'No internet service') | `object`         |\n",
    "| TechSupport      | Soporte técnico disponible ('Yes'/'No'/'No internet service') | `object`         |\n",
    "| Contract        | Tipo de contrato ('Month-to-month'/'One year'/'Two year') | `object`         |\n",
    "| PaperlessBilling | Facturación sin papel ('Yes'/'No')                     | `object`         |\n",
    "| PaymentMethod   | Método de pago ('Electronic check', 'Mailed check', 'Bank transfer (automatic)', 'Credit card (automatic)') | `object`         |\n",
    "| Charges        | Costos asociados                                       | `float`            |\n",
    "| Demand        | Nivel de demanda estimado                                | `float`            |\n",
    "| Class          | Clasificación ('Alpha'/'Betha')                         | `object`         |\n"
   ]
  },
  {
   "cell_type": "markdown",
   "id": "6495c5ed",
   "metadata": {},
   "source": [
    "Como la variable autoID es un identificador único no es necesario para el modelo de clasificación"
   ]
  },
  {
   "cell_type": "code",
   "execution_count": 11,
   "id": "028bf04b",
   "metadata": {},
   "outputs": [
    {
     "data": {
      "text/html": [
       "<div>\n",
       "<style scoped>\n",
       "    .dataframe tbody tr th:only-of-type {\n",
       "        vertical-align: middle;\n",
       "    }\n",
       "\n",
       "    .dataframe tbody tr th {\n",
       "        vertical-align: top;\n",
       "    }\n",
       "\n",
       "    .dataframe thead th {\n",
       "        text-align: right;\n",
       "    }\n",
       "</style>\n",
       "<table border=\"1\" class=\"dataframe\">\n",
       "  <thead>\n",
       "    <tr style=\"text-align: right;\">\n",
       "      <th></th>\n",
       "      <th>SeniorCity</th>\n",
       "      <th>Partner</th>\n",
       "      <th>Dependents</th>\n",
       "      <th>Service1</th>\n",
       "      <th>Service2</th>\n",
       "      <th>Security</th>\n",
       "      <th>OnlineBackup</th>\n",
       "      <th>DeviceProtection</th>\n",
       "      <th>TechSupport</th>\n",
       "      <th>Contract</th>\n",
       "      <th>PaperlessBilling</th>\n",
       "      <th>PaymentMethod</th>\n",
       "      <th>Charges</th>\n",
       "      <th>Demand</th>\n",
       "      <th>Class</th>\n",
       "    </tr>\n",
       "  </thead>\n",
       "  <tbody>\n",
       "    <tr>\n",
       "      <th>0</th>\n",
       "      <td>0</td>\n",
       "      <td>Yes</td>\n",
       "      <td>No</td>\n",
       "      <td>No</td>\n",
       "      <td>No phone service</td>\n",
       "      <td>No</td>\n",
       "      <td>Yes</td>\n",
       "      <td>No</td>\n",
       "      <td>No</td>\n",
       "      <td>Month-to-month</td>\n",
       "      <td>Yes</td>\n",
       "      <td>Electronic check</td>\n",
       "      <td>29.85</td>\n",
       "      <td>29.85</td>\n",
       "      <td>Alpha</td>\n",
       "    </tr>\n",
       "    <tr>\n",
       "      <th>1</th>\n",
       "      <td>0</td>\n",
       "      <td>No</td>\n",
       "      <td>No</td>\n",
       "      <td>Yes</td>\n",
       "      <td>No</td>\n",
       "      <td>Yes</td>\n",
       "      <td>No</td>\n",
       "      <td>Yes</td>\n",
       "      <td>No</td>\n",
       "      <td>One year</td>\n",
       "      <td>No</td>\n",
       "      <td>Mailed check</td>\n",
       "      <td>56.95</td>\n",
       "      <td>1889.50</td>\n",
       "      <td>Alpha</td>\n",
       "    </tr>\n",
       "    <tr>\n",
       "      <th>2</th>\n",
       "      <td>0</td>\n",
       "      <td>No</td>\n",
       "      <td>No</td>\n",
       "      <td>Yes</td>\n",
       "      <td>No</td>\n",
       "      <td>Yes</td>\n",
       "      <td>Yes</td>\n",
       "      <td>No</td>\n",
       "      <td>No</td>\n",
       "      <td>Month-to-month</td>\n",
       "      <td>Yes</td>\n",
       "      <td>Mailed check</td>\n",
       "      <td>53.85</td>\n",
       "      <td>108.15</td>\n",
       "      <td>Betha</td>\n",
       "    </tr>\n",
       "    <tr>\n",
       "      <th>3</th>\n",
       "      <td>0</td>\n",
       "      <td>No</td>\n",
       "      <td>No</td>\n",
       "      <td>No</td>\n",
       "      <td>No phone service</td>\n",
       "      <td>Yes</td>\n",
       "      <td>No</td>\n",
       "      <td>Yes</td>\n",
       "      <td>Yes</td>\n",
       "      <td>One year</td>\n",
       "      <td>No</td>\n",
       "      <td>Bank transfer (automatic)</td>\n",
       "      <td>42.30</td>\n",
       "      <td>1840.75</td>\n",
       "      <td>Alpha</td>\n",
       "    </tr>\n",
       "    <tr>\n",
       "      <th>4</th>\n",
       "      <td>0</td>\n",
       "      <td>No</td>\n",
       "      <td>No</td>\n",
       "      <td>Yes</td>\n",
       "      <td>No</td>\n",
       "      <td>No</td>\n",
       "      <td>No</td>\n",
       "      <td>No</td>\n",
       "      <td>No</td>\n",
       "      <td>Month-to-month</td>\n",
       "      <td>Yes</td>\n",
       "      <td>Electronic check</td>\n",
       "      <td>70.70</td>\n",
       "      <td>151.65</td>\n",
       "      <td>Betha</td>\n",
       "    </tr>\n",
       "    <tr>\n",
       "      <th>...</th>\n",
       "      <td>...</td>\n",
       "      <td>...</td>\n",
       "      <td>...</td>\n",
       "      <td>...</td>\n",
       "      <td>...</td>\n",
       "      <td>...</td>\n",
       "      <td>...</td>\n",
       "      <td>...</td>\n",
       "      <td>...</td>\n",
       "      <td>...</td>\n",
       "      <td>...</td>\n",
       "      <td>...</td>\n",
       "      <td>...</td>\n",
       "      <td>...</td>\n",
       "      <td>...</td>\n",
       "    </tr>\n",
       "    <tr>\n",
       "      <th>7038</th>\n",
       "      <td>0</td>\n",
       "      <td>Yes</td>\n",
       "      <td>Yes</td>\n",
       "      <td>Yes</td>\n",
       "      <td>Yes</td>\n",
       "      <td>Yes</td>\n",
       "      <td>No</td>\n",
       "      <td>Yes</td>\n",
       "      <td>Yes</td>\n",
       "      <td>One year</td>\n",
       "      <td>Yes</td>\n",
       "      <td>Mailed check</td>\n",
       "      <td>84.80</td>\n",
       "      <td>1990.50</td>\n",
       "      <td>Alpha</td>\n",
       "    </tr>\n",
       "    <tr>\n",
       "      <th>7039</th>\n",
       "      <td>0</td>\n",
       "      <td>Yes</td>\n",
       "      <td>Yes</td>\n",
       "      <td>Yes</td>\n",
       "      <td>Yes</td>\n",
       "      <td>No</td>\n",
       "      <td>Yes</td>\n",
       "      <td>Yes</td>\n",
       "      <td>No</td>\n",
       "      <td>One year</td>\n",
       "      <td>Yes</td>\n",
       "      <td>Credit card (automatic)</td>\n",
       "      <td>103.20</td>\n",
       "      <td>7362.90</td>\n",
       "      <td>Alpha</td>\n",
       "    </tr>\n",
       "    <tr>\n",
       "      <th>7040</th>\n",
       "      <td>0</td>\n",
       "      <td>Yes</td>\n",
       "      <td>Yes</td>\n",
       "      <td>No</td>\n",
       "      <td>No phone service</td>\n",
       "      <td>Yes</td>\n",
       "      <td>No</td>\n",
       "      <td>No</td>\n",
       "      <td>No</td>\n",
       "      <td>Month-to-month</td>\n",
       "      <td>Yes</td>\n",
       "      <td>Electronic check</td>\n",
       "      <td>29.60</td>\n",
       "      <td>346.45</td>\n",
       "      <td>Alpha</td>\n",
       "    </tr>\n",
       "    <tr>\n",
       "      <th>7041</th>\n",
       "      <td>1</td>\n",
       "      <td>Yes</td>\n",
       "      <td>No</td>\n",
       "      <td>Yes</td>\n",
       "      <td>Yes</td>\n",
       "      <td>No</td>\n",
       "      <td>No</td>\n",
       "      <td>No</td>\n",
       "      <td>No</td>\n",
       "      <td>Month-to-month</td>\n",
       "      <td>Yes</td>\n",
       "      <td>Mailed check</td>\n",
       "      <td>74.40</td>\n",
       "      <td>306.60</td>\n",
       "      <td>Betha</td>\n",
       "    </tr>\n",
       "    <tr>\n",
       "      <th>7042</th>\n",
       "      <td>0</td>\n",
       "      <td>No</td>\n",
       "      <td>No</td>\n",
       "      <td>Yes</td>\n",
       "      <td>No</td>\n",
       "      <td>Yes</td>\n",
       "      <td>No</td>\n",
       "      <td>Yes</td>\n",
       "      <td>Yes</td>\n",
       "      <td>Two year</td>\n",
       "      <td>Yes</td>\n",
       "      <td>Bank transfer (automatic)</td>\n",
       "      <td>105.65</td>\n",
       "      <td>6844.50</td>\n",
       "      <td>Alpha</td>\n",
       "    </tr>\n",
       "  </tbody>\n",
       "</table>\n",
       "<p>7043 rows × 15 columns</p>\n",
       "</div>"
      ],
      "text/plain": [
       "      SeniorCity Partner Dependents Service1          Service2 Security  \\\n",
       "0              0     Yes         No       No  No phone service       No   \n",
       "1              0      No         No      Yes                No      Yes   \n",
       "2              0      No         No      Yes                No      Yes   \n",
       "3              0      No         No       No  No phone service      Yes   \n",
       "4              0      No         No      Yes                No       No   \n",
       "...          ...     ...        ...      ...               ...      ...   \n",
       "7038           0     Yes        Yes      Yes               Yes      Yes   \n",
       "7039           0     Yes        Yes      Yes               Yes       No   \n",
       "7040           0     Yes        Yes       No  No phone service      Yes   \n",
       "7041           1     Yes         No      Yes               Yes       No   \n",
       "7042           0      No         No      Yes                No      Yes   \n",
       "\n",
       "     OnlineBackup DeviceProtection TechSupport        Contract  \\\n",
       "0             Yes               No          No  Month-to-month   \n",
       "1              No              Yes          No        One year   \n",
       "2             Yes               No          No  Month-to-month   \n",
       "3              No              Yes         Yes        One year   \n",
       "4              No               No          No  Month-to-month   \n",
       "...           ...              ...         ...             ...   \n",
       "7038           No              Yes         Yes        One year   \n",
       "7039          Yes              Yes          No        One year   \n",
       "7040           No               No          No  Month-to-month   \n",
       "7041           No               No          No  Month-to-month   \n",
       "7042           No              Yes         Yes        Two year   \n",
       "\n",
       "     PaperlessBilling              PaymentMethod  Charges   Demand  Class  \n",
       "0                 Yes           Electronic check    29.85    29.85  Alpha  \n",
       "1                  No               Mailed check    56.95  1889.50  Alpha  \n",
       "2                 Yes               Mailed check    53.85   108.15  Betha  \n",
       "3                  No  Bank transfer (automatic)    42.30  1840.75  Alpha  \n",
       "4                 Yes           Electronic check    70.70   151.65  Betha  \n",
       "...               ...                        ...      ...      ...    ...  \n",
       "7038              Yes               Mailed check    84.80  1990.50  Alpha  \n",
       "7039              Yes    Credit card (automatic)   103.20  7362.90  Alpha  \n",
       "7040              Yes           Electronic check    29.60   346.45  Alpha  \n",
       "7041              Yes               Mailed check    74.40   306.60  Betha  \n",
       "7042              Yes  Bank transfer (automatic)   105.65  6844.50  Alpha  \n",
       "\n",
       "[7043 rows x 15 columns]"
      ]
     },
     "execution_count": 11,
     "metadata": {},
     "output_type": "execute_result"
    }
   ],
   "source": [
    "data = data.drop(\"autoID\", axis=1)\n",
    "data"
   ]
  },
  {
   "cell_type": "markdown",
   "id": "cd971e2c",
   "metadata": {},
   "source": [
    "### Variables categóricas \n",
    "Para entender mejor los datos y las variables, es necesario codificar las variables (one-hot encoding o label encoding), con el fin de detectar que categorías pueden afectar la precisión del modelo.\n",
    "\n",
    "- Partner,\n",
    "Dependents,\n",
    "Service1,\n",
    "Service2,\n",
    "Security,\n",
    "OnlineBackup,\n",
    "DeviceProtection,\n",
    "TechSupport,\n",
    "Contract,\n",
    "PaperlessBilling,\n",
    "PaymentMethod,\n",
    "Class, presentan valores entre \"yes\", \"no\" y entre otros, lo que las convierte en variables categóricas."
   ]
  },
  {
   "cell_type": "code",
   "execution_count": 12,
   "id": "77f8d2d9",
   "metadata": {},
   "outputs": [
    {
     "name": "stdout",
     "output_type": "stream",
     "text": [
      "Categorical variables: Index(['Partner', 'Dependents', 'Service1', 'Service2', 'Security',\n",
      "       'OnlineBackup', 'DeviceProtection', 'TechSupport', 'Contract',\n",
      "       'PaperlessBilling', 'PaymentMethod', 'Class'],\n",
      "      dtype='object')\n",
      "\n",
      "Partner's distribution:\n",
      "Partner\n",
      "No     0.516967\n",
      "Yes    0.483033\n",
      "Name: proportion, dtype: float64\n",
      "--------------------------------------------------\n",
      "\n",
      "Dependents's distribution:\n",
      "Dependents\n",
      "No     0.700412\n",
      "Yes    0.299588\n",
      "Name: proportion, dtype: float64\n",
      "--------------------------------------------------\n",
      "\n",
      "Service1's distribution:\n",
      "Service1\n",
      "Yes    0.903166\n",
      "No     0.096834\n",
      "Name: proportion, dtype: float64\n",
      "--------------------------------------------------\n",
      "\n",
      "Service2's distribution:\n",
      "Service2\n",
      "No                  0.481329\n",
      "Yes                 0.421837\n",
      "No phone service    0.096834\n",
      "Name: proportion, dtype: float64\n",
      "--------------------------------------------------\n",
      "\n",
      "Security's distribution:\n",
      "Security\n",
      "No                     0.496663\n",
      "Yes                    0.286668\n",
      "No internet service    0.216669\n",
      "Name: proportion, dtype: float64\n",
      "--------------------------------------------------\n",
      "\n",
      "OnlineBackup's distribution:\n",
      "OnlineBackup\n",
      "No                     0.438450\n",
      "Yes                    0.344881\n",
      "No internet service    0.216669\n",
      "Name: proportion, dtype: float64\n",
      "--------------------------------------------------\n",
      "\n",
      "DeviceProtection's distribution:\n",
      "DeviceProtection\n",
      "No                     0.439443\n",
      "Yes                    0.343888\n",
      "No internet service    0.216669\n",
      "Name: proportion, dtype: float64\n",
      "--------------------------------------------------\n",
      "\n",
      "TechSupport's distribution:\n",
      "TechSupport\n",
      "No                     0.493114\n",
      "Yes                    0.290217\n",
      "No internet service    0.216669\n",
      "Name: proportion, dtype: float64\n",
      "--------------------------------------------------\n",
      "\n",
      "Contract's distribution:\n",
      "Contract\n",
      "Month-to-month    0.550192\n",
      "Two year          0.240664\n",
      "One year          0.209144\n",
      "Name: proportion, dtype: float64\n",
      "--------------------------------------------------\n",
      "\n",
      "PaperlessBilling's distribution:\n",
      "PaperlessBilling\n",
      "Yes    0.592219\n",
      "No     0.407781\n",
      "Name: proportion, dtype: float64\n",
      "--------------------------------------------------\n",
      "\n",
      "PaymentMethod's distribution:\n",
      "PaymentMethod\n",
      "Electronic check             0.335794\n",
      "Mailed check                 0.228880\n",
      "Bank transfer (automatic)    0.219225\n",
      "Credit card (automatic)      0.216101\n",
      "Name: proportion, dtype: float64\n",
      "--------------------------------------------------\n",
      "\n",
      "Class's distribution:\n",
      "Class\n",
      "Alpha    0.73463\n",
      "Betha    0.26537\n",
      "Name: proportion, dtype: float64\n",
      "--------------------------------------------------\n"
     ]
    }
   ],
   "source": [
    "categorical_variables = data.select_dtypes(include=['object']).columns\n",
    "print(\"Categorical variables:\", categorical_variables)\n",
    "for var in categorical_variables:\n",
    "    print(f\"\\n{var}'s distribution:\")\n",
    "    print(data[var].value_counts(normalize=True))\n",
    "    print('-' * 50)"
   ]
  },
  {
   "cell_type": "markdown",
   "id": "3947ef22",
   "metadata": {},
   "source": [
    "### Varibles numéricas o continuas"
   ]
  },
  {
   "cell_type": "code",
   "execution_count": 13,
   "id": "2464e829",
   "metadata": {},
   "outputs": [
    {
     "name": "stdout",
     "output_type": "stream",
     "text": [
      "Numerical variables: Index(['SeniorCity', 'Charges', 'Demand'], dtype='object')\n"
     ]
    }
   ],
   "source": [
    "numerical_variables = data.select_dtypes(include=['int64', 'float64']).columns\n",
    "print(\"Numerical variables:\", numerical_variables)"
   ]
  },
  {
   "cell_type": "markdown",
   "id": "4b423c81",
   "metadata": {},
   "source": [
    "### VISUALIZACIÓN DE LA DISTRIBUCIÓN DE DATOS"
   ]
  },
  {
   "cell_type": "code",
   "execution_count": 14,
   "id": "5978a422",
   "metadata": {},
   "outputs": [
    {
     "data": {
      "image/png": "[encoded data removed]",
      "text/plain": [
       "<Figure size 2000x600 with 4 Axes>"
      ]
     },
     "metadata": {},
     "output_type": "display_data"
    }
   ],
   "source": [
    "\n",
    "fig, axes = plt.subplots(1, 3, figsize=(20, 6))  \n",
    "\n",
    "sns.heatmap(data[numerical_variables].corr(), annot=True, fmt='.2f', cmap='coolwarm', ax=axes[0])\n",
    "axes[0].set_title('Correlación de Variables Numéricas', fontsize=16)\n",
    "\n",
    "sns.histplot(data['Demand'], bins=20, kde=True, ax=axes[1], color='skyblue')\n",
    "axes[1].set_title('Demand distribución', fontsize=16)\n",
    "axes[1].set_xlabel('Demand')\n",
    "axes[1].set_ylabel('Frecuencia')\n",
    "\n",
    "ax = sns.barplot(x=data['Class'].value_counts().index, \n",
    "                y=data['Class'].value_counts().values)\n",
    "\n",
    "for i, v in enumerate(data['Class'].value_counts().values):\n",
    "    ax.text(i, v, str(v), ha='center', va='bottom')\n",
    "\n",
    "plt.title('Distribución de clases', fontsize=16)\n",
    "plt.xlabel('Class', fontsize=12)\n",
    "plt.ylabel('Quantity', fontsize=12)\n",
    "\n",
    "plt.xticks(rotation=0)\n",
    "\n",
    "plt.tight_layout()\n",
    "plt.show()"
   ]
  },
  {
   "cell_type": "markdown",
   "id": "f917b03a",
   "metadata": {},
   "source": [
    "- En el mapa de calor se puede observar que las variables Charges y Demand tienen mayor correlación, pero la variable SeniorCity pero no presenta un valor de correlación significativo con respecto a Charges y Demand. Por lo tanto se puede eliminar ya que no influye significativamente en la predicción. \n",
    "- La gráfica de distribución muestra que la mayor parte de los valores de demanda se encuentran en el intervalo entre 0 a 2000.\n",
    "- El gráfico de distribución de clases muestra un fuerte desequilibrio entre la clase 'Alpha' y 'Betha' lo que puede generar sesgo en el modelo de clasificación."
   ]
  },
  {
   "cell_type": "code",
   "execution_count": 15,
   "id": "0f17aca6",
   "metadata": {},
   "outputs": [
    {
     "name": "stdout",
     "output_type": "stream",
     "text": [
      "  Partner Dependents Service1          Service2 Security OnlineBackup  \\\n",
      "0     Yes         No       No  No phone service       No          Yes   \n",
      "1      No         No      Yes                No      Yes           No   \n",
      "2      No         No      Yes                No      Yes          Yes   \n",
      "3      No         No       No  No phone service      Yes           No   \n",
      "4      No         No      Yes                No       No           No   \n",
      "\n",
      "  DeviceProtection TechSupport        Contract PaperlessBilling  \\\n",
      "0               No          No  Month-to-month              Yes   \n",
      "1              Yes          No        One year               No   \n",
      "2               No          No  Month-to-month              Yes   \n",
      "3              Yes         Yes        One year               No   \n",
      "4               No          No  Month-to-month              Yes   \n",
      "\n",
      "               PaymentMethod  Charges   Demand  Class  \n",
      "0           Electronic check    29.85    29.85  Alpha  \n",
      "1               Mailed check    56.95  1889.50  Alpha  \n",
      "2               Mailed check    53.85   108.15  Betha  \n",
      "3  Bank transfer (automatic)    42.30  1840.75  Alpha  \n",
      "4           Electronic check    70.70   151.65  Betha  \n",
      "Index(['Charges', 'Demand'], dtype='object')\n"
     ]
    }
   ],
   "source": [
    "data = data.drop(\"SeniorCity\", axis=1)\n",
    "numerical_variables = numerical_variables.drop([\"SeniorCity\"])\n",
    "\n",
    "print(data.head())\n",
    "print(numerical_variables)"
   ]
  },
  {
   "cell_type": "markdown",
   "id": "5dbc3b27",
   "metadata": {},
   "source": [
    "### Conversión de variables categóricas en variables numéricas (método LabelEncoder)"
   ]
  },
  {
   "cell_type": "code",
   "execution_count": 16,
   "id": "08e48e44",
   "metadata": {},
   "outputs": [
    {
     "data": {
      "text/html": [
       "<div>\n",
       "<style scoped>\n",
       "    .dataframe tbody tr th:only-of-type {\n",
       "        vertical-align: middle;\n",
       "    }\n",
       "\n",
       "    .dataframe tbody tr th {\n",
       "        vertical-align: top;\n",
       "    }\n",
       "\n",
       "    .dataframe thead th {\n",
       "        text-align: right;\n",
       "    }\n",
       "</style>\n",
       "<table border=\"1\" class=\"dataframe\">\n",
       "  <thead>\n",
       "    <tr style=\"text-align: right;\">\n",
       "      <th></th>\n",
       "      <th>Partner</th>\n",
       "      <th>Dependents</th>\n",
       "      <th>Service1</th>\n",
       "      <th>Service2</th>\n",
       "      <th>Security</th>\n",
       "      <th>OnlineBackup</th>\n",
       "      <th>DeviceProtection</th>\n",
       "      <th>TechSupport</th>\n",
       "      <th>Contract</th>\n",
       "      <th>PaperlessBilling</th>\n",
       "      <th>PaymentMethod</th>\n",
       "      <th>Charges</th>\n",
       "      <th>Demand</th>\n",
       "      <th>Class</th>\n",
       "    </tr>\n",
       "  </thead>\n",
       "  <tbody>\n",
       "    <tr>\n",
       "      <th>0</th>\n",
       "      <td>1</td>\n",
       "      <td>0</td>\n",
       "      <td>0</td>\n",
       "      <td>1</td>\n",
       "      <td>0</td>\n",
       "      <td>2</td>\n",
       "      <td>0</td>\n",
       "      <td>0</td>\n",
       "      <td>0</td>\n",
       "      <td>1</td>\n",
       "      <td>2</td>\n",
       "      <td>29.85</td>\n",
       "      <td>29.85</td>\n",
       "      <td>0</td>\n",
       "    </tr>\n",
       "    <tr>\n",
       "      <th>1</th>\n",
       "      <td>0</td>\n",
       "      <td>0</td>\n",
       "      <td>1</td>\n",
       "      <td>0</td>\n",
       "      <td>2</td>\n",
       "      <td>0</td>\n",
       "      <td>2</td>\n",
       "      <td>0</td>\n",
       "      <td>1</td>\n",
       "      <td>0</td>\n",
       "      <td>3</td>\n",
       "      <td>56.95</td>\n",
       "      <td>1889.50</td>\n",
       "      <td>0</td>\n",
       "    </tr>\n",
       "    <tr>\n",
       "      <th>2</th>\n",
       "      <td>0</td>\n",
       "      <td>0</td>\n",
       "      <td>1</td>\n",
       "      <td>0</td>\n",
       "      <td>2</td>\n",
       "      <td>2</td>\n",
       "      <td>0</td>\n",
       "      <td>0</td>\n",
       "      <td>0</td>\n",
       "      <td>1</td>\n",
       "      <td>3</td>\n",
       "      <td>53.85</td>\n",
       "      <td>108.15</td>\n",
       "      <td>1</td>\n",
       "    </tr>\n",
       "    <tr>\n",
       "      <th>3</th>\n",
       "      <td>0</td>\n",
       "      <td>0</td>\n",
       "      <td>0</td>\n",
       "      <td>1</td>\n",
       "      <td>2</td>\n",
       "      <td>0</td>\n",
       "      <td>2</td>\n",
       "      <td>2</td>\n",
       "      <td>1</td>\n",
       "      <td>0</td>\n",
       "      <td>0</td>\n",
       "      <td>42.30</td>\n",
       "      <td>1840.75</td>\n",
       "      <td>0</td>\n",
       "    </tr>\n",
       "    <tr>\n",
       "      <th>4</th>\n",
       "      <td>0</td>\n",
       "      <td>0</td>\n",
       "      <td>1</td>\n",
       "      <td>0</td>\n",
       "      <td>0</td>\n",
       "      <td>0</td>\n",
       "      <td>0</td>\n",
       "      <td>0</td>\n",
       "      <td>0</td>\n",
       "      <td>1</td>\n",
       "      <td>2</td>\n",
       "      <td>70.70</td>\n",
       "      <td>151.65</td>\n",
       "      <td>1</td>\n",
       "    </tr>\n",
       "  </tbody>\n",
       "</table>\n",
       "</div>"
      ],
      "text/plain": [
       "   Partner  Dependents  Service1  Service2  Security  OnlineBackup  \\\n",
       "0        1           0         0         1         0             2   \n",
       "1        0           0         1         0         2             0   \n",
       "2        0           0         1         0         2             2   \n",
       "3        0           0         0         1         2             0   \n",
       "4        0           0         1         0         0             0   \n",
       "\n",
       "   DeviceProtection  TechSupport  Contract  PaperlessBilling  PaymentMethod  \\\n",
       "0                 0            0         0                 1              2   \n",
       "1                 2            0         1                 0              3   \n",
       "2                 0            0         0                 1              3   \n",
       "3                 2            2         1                 0              0   \n",
       "4                 0            0         0                 1              2   \n",
       "\n",
       "   Charges   Demand  Class  \n",
       "0    29.85    29.85      0  \n",
       "1    56.95  1889.50      0  \n",
       "2    53.85   108.15      1  \n",
       "3    42.30  1840.75      0  \n",
       "4    70.70   151.65      1  "
      ]
     },
     "execution_count": 16,
     "metadata": {},
     "output_type": "execute_result"
    }
   ],
   "source": [
    "l_encoder = LabelEncoder()\n",
    "\n",
    "for var in categorical_variables:\n",
    "    data[var] = l_encoder.fit_transform(data[var])\n",
    "    \n",
    "data.head()"
   ]
  },
  {
   "cell_type": "markdown",
   "id": "8bad1d14",
   "metadata": {},
   "source": [
    "### Normalización de las variables numerícas"
   ]
  },
  {
   "cell_type": "code",
   "execution_count": 17,
   "id": "932e023f",
   "metadata": {},
   "outputs": [
    {
     "data": {
      "text/html": [
       "<div>\n",
       "<style scoped>\n",
       "    .dataframe tbody tr th:only-of-type {\n",
       "        vertical-align: middle;\n",
       "    }\n",
       "\n",
       "    .dataframe tbody tr th {\n",
       "        vertical-align: top;\n",
       "    }\n",
       "\n",
       "    .dataframe thead th {\n",
       "        text-align: right;\n",
       "    }\n",
       "</style>\n",
       "<table border=\"1\" class=\"dataframe\">\n",
       "  <thead>\n",
       "    <tr style=\"text-align: right;\">\n",
       "      <th></th>\n",
       "      <th>Charges</th>\n",
       "      <th>Demand</th>\n",
       "    </tr>\n",
       "  </thead>\n",
       "  <tbody>\n",
       "    <tr>\n",
       "      <th>0</th>\n",
       "      <td>-1.160323</td>\n",
       "      <td>-0.992611</td>\n",
       "    </tr>\n",
       "    <tr>\n",
       "      <th>1</th>\n",
       "      <td>-0.259629</td>\n",
       "      <td>-0.172165</td>\n",
       "    </tr>\n",
       "    <tr>\n",
       "      <th>2</th>\n",
       "      <td>-0.362660</td>\n",
       "      <td>-0.958066</td>\n",
       "    </tr>\n",
       "    <tr>\n",
       "      <th>3</th>\n",
       "      <td>-0.746535</td>\n",
       "      <td>-0.193672</td>\n",
       "    </tr>\n",
       "    <tr>\n",
       "      <th>4</th>\n",
       "      <td>0.197365</td>\n",
       "      <td>-0.938874</td>\n",
       "    </tr>\n",
       "  </tbody>\n",
       "</table>\n",
       "</div>"
      ],
      "text/plain": [
       "    Charges    Demand\n",
       "0 -1.160323 -0.992611\n",
       "1 -0.259629 -0.172165\n",
       "2 -0.362660 -0.958066\n",
       "3 -0.746535 -0.193672\n",
       "4  0.197365 -0.938874"
      ]
     },
     "execution_count": 17,
     "metadata": {},
     "output_type": "execute_result"
    }
   ],
   "source": [
    "scaler = StandardScaler()\n",
    "data[numerical_variables] = scaler.fit_transform(data[numerical_variables])\n",
    "\n",
    "data[numerical_variables].head()"
   ]
  },
  {
   "cell_type": "markdown",
   "id": "3207f173",
   "metadata": {},
   "source": [
    "### Separación de los datos en X e y"
   ]
  },
  {
   "cell_type": "code",
   "execution_count": 18,
   "id": "1862d33c",
   "metadata": {},
   "outputs": [],
   "source": [
    "X = data.drop(['Class'], axis=1)\n",
    "\n",
    "y_class = data['Class']"
   ]
  },
  {
   "cell_type": "markdown",
   "id": "774d14b6",
   "metadata": {},
   "source": [
    "### Balancear la variable `Class` con SMOTE"
   ]
  },
  {
   "cell_type": "code",
   "execution_count": 19,
   "id": "88adc2bf",
   "metadata": {},
   "outputs": [],
   "source": [
    "smote = SMOTE(random_state=42)\n",
    "X_balanced, y_balanced = smote.fit_resample(X, y_class)"
   ]
  },
  {
   "cell_type": "code",
   "execution_count": 20,
   "id": "f2bdcb20",
   "metadata": {},
   "outputs": [],
   "source": [
    "df_resampled = pd.DataFrame(X_balanced, columns=X.columns)\n",
    "df_resampled['Class'] = y_balanced"
   ]
  },
  {
   "cell_type": "code",
   "execution_count": 21,
   "id": "aa74477e",
   "metadata": {},
   "outputs": [
    {
     "data": {
      "image/png": "[encoded data removed]",
      "text/plain": [
       "<Figure size 1000x600 with 1 Axes>"
      ]
     },
     "metadata": {},
     "output_type": "display_data"
    }
   ],
   "source": [
    "plt.figure(figsize=(10, 6))\n",
    "\n",
    "ax = sns.barplot(x=df_resampled['Class'].value_counts().index, \n",
    "                y=df_resampled['Class'].value_counts().values)\n",
    "\n",
    "for i, v in enumerate(df_resampled['Class'].value_counts().values):\n",
    "    ax.text(i, v, str(v), ha='center', va='bottom')\n",
    "\n",
    "plt.title('Class distribution', fontsize=16, fontweight='bold')\n",
    "plt.xlabel('Class', fontsize=12)\n",
    "plt.ylabel('Quantity', fontsize=12)\n",
    "\n",
    "plt.xticks(rotation=0)\n",
    "\n",
    "plt.tight_layout()\n",
    "plt.show()"
   ]
  },
  {
   "cell_type": "markdown",
   "id": "48ece69a",
   "metadata": {},
   "source": [
    "Con esta gráfica se muestra que el balanceo fue exitoso donde cada una de las variables muestra el mismo número de datos."
   ]
  },
  {
   "cell_type": "markdown",
   "id": "dcbd7bcb",
   "metadata": {},
   "source": [
    "### Redistribución de las variables X e y después del proceso de balanceo"
   ]
  },
  {
   "cell_type": "code",
   "execution_count": 22,
   "id": "40d45e57",
   "metadata": {},
   "outputs": [],
   "source": [
    "X_oversampled = df_resampled.drop(['Class'], axis=1)\n",
    "\n",
    "y_oversampled_class = df_resampled[\"Class\"]"
   ]
  },
  {
   "cell_type": "code",
   "execution_count": 23,
   "id": "33b8e786",
   "metadata": {},
   "outputs": [
    {
     "data": {
      "text/html": [
       "<div>\n",
       "<style scoped>\n",
       "    .dataframe tbody tr th:only-of-type {\n",
       "        vertical-align: middle;\n",
       "    }\n",
       "\n",
       "    .dataframe tbody tr th {\n",
       "        vertical-align: top;\n",
       "    }\n",
       "\n",
       "    .dataframe thead th {\n",
       "        text-align: right;\n",
       "    }\n",
       "</style>\n",
       "<table border=\"1\" class=\"dataframe\">\n",
       "  <thead>\n",
       "    <tr style=\"text-align: right;\">\n",
       "      <th></th>\n",
       "      <th>Partner</th>\n",
       "      <th>Dependents</th>\n",
       "      <th>Service1</th>\n",
       "      <th>Service2</th>\n",
       "      <th>Security</th>\n",
       "      <th>OnlineBackup</th>\n",
       "      <th>DeviceProtection</th>\n",
       "      <th>TechSupport</th>\n",
       "      <th>Contract</th>\n",
       "      <th>PaperlessBilling</th>\n",
       "      <th>PaymentMethod</th>\n",
       "      <th>Charges</th>\n",
       "      <th>Demand</th>\n",
       "    </tr>\n",
       "  </thead>\n",
       "  <tbody>\n",
       "    <tr>\n",
       "      <th>0</th>\n",
       "      <td>1</td>\n",
       "      <td>0</td>\n",
       "      <td>0</td>\n",
       "      <td>1</td>\n",
       "      <td>0</td>\n",
       "      <td>2</td>\n",
       "      <td>0</td>\n",
       "      <td>0</td>\n",
       "      <td>0</td>\n",
       "      <td>1</td>\n",
       "      <td>2</td>\n",
       "      <td>-1.160323</td>\n",
       "      <td>-0.992611</td>\n",
       "    </tr>\n",
       "    <tr>\n",
       "      <th>1</th>\n",
       "      <td>0</td>\n",
       "      <td>0</td>\n",
       "      <td>1</td>\n",
       "      <td>0</td>\n",
       "      <td>2</td>\n",
       "      <td>0</td>\n",
       "      <td>2</td>\n",
       "      <td>0</td>\n",
       "      <td>1</td>\n",
       "      <td>0</td>\n",
       "      <td>3</td>\n",
       "      <td>-0.259629</td>\n",
       "      <td>-0.172165</td>\n",
       "    </tr>\n",
       "    <tr>\n",
       "      <th>2</th>\n",
       "      <td>0</td>\n",
       "      <td>0</td>\n",
       "      <td>1</td>\n",
       "      <td>0</td>\n",
       "      <td>2</td>\n",
       "      <td>2</td>\n",
       "      <td>0</td>\n",
       "      <td>0</td>\n",
       "      <td>0</td>\n",
       "      <td>1</td>\n",
       "      <td>3</td>\n",
       "      <td>-0.362660</td>\n",
       "      <td>-0.958066</td>\n",
       "    </tr>\n",
       "    <tr>\n",
       "      <th>3</th>\n",
       "      <td>0</td>\n",
       "      <td>0</td>\n",
       "      <td>0</td>\n",
       "      <td>1</td>\n",
       "      <td>2</td>\n",
       "      <td>0</td>\n",
       "      <td>2</td>\n",
       "      <td>2</td>\n",
       "      <td>1</td>\n",
       "      <td>0</td>\n",
       "      <td>0</td>\n",
       "      <td>-0.746535</td>\n",
       "      <td>-0.193672</td>\n",
       "    </tr>\n",
       "    <tr>\n",
       "      <th>4</th>\n",
       "      <td>0</td>\n",
       "      <td>0</td>\n",
       "      <td>1</td>\n",
       "      <td>0</td>\n",
       "      <td>0</td>\n",
       "      <td>0</td>\n",
       "      <td>0</td>\n",
       "      <td>0</td>\n",
       "      <td>0</td>\n",
       "      <td>1</td>\n",
       "      <td>2</td>\n",
       "      <td>0.197365</td>\n",
       "      <td>-0.938874</td>\n",
       "    </tr>\n",
       "  </tbody>\n",
       "</table>\n",
       "</div>"
      ],
      "text/plain": [
       "   Partner  Dependents  Service1  Service2  Security  OnlineBackup  \\\n",
       "0        1           0         0         1         0             2   \n",
       "1        0           0         1         0         2             0   \n",
       "2        0           0         1         0         2             2   \n",
       "3        0           0         0         1         2             0   \n",
       "4        0           0         1         0         0             0   \n",
       "\n",
       "   DeviceProtection  TechSupport  Contract  PaperlessBilling  PaymentMethod  \\\n",
       "0                 0            0         0                 1              2   \n",
       "1                 2            0         1                 0              3   \n",
       "2                 0            0         0                 1              3   \n",
       "3                 2            2         1                 0              0   \n",
       "4                 0            0         0                 1              2   \n",
       "\n",
       "    Charges    Demand  \n",
       "0 -1.160323 -0.992611  \n",
       "1 -0.259629 -0.172165  \n",
       "2 -0.362660 -0.958066  \n",
       "3 -0.746535 -0.193672  \n",
       "4  0.197365 -0.938874  "
      ]
     },
     "execution_count": 23,
     "metadata": {},
     "output_type": "execute_result"
    }
   ],
   "source": [
    "X_oversampled.head()"
   ]
  },
  {
   "cell_type": "code",
   "execution_count": 24,
   "id": "10ac9762",
   "metadata": {},
   "outputs": [
    {
     "name": "stdout",
     "output_type": "stream",
     "text": [
      "y_oversampled_class\n",
      "0    0\n",
      "1    0\n",
      "2    1\n",
      "3    0\n",
      "4    1\n",
      "Name: Class, dtype: int64\n"
     ]
    }
   ],
   "source": [
    "print(f'y_oversampled_class\\n{y_oversampled_class.head()}')"
   ]
  },
  {
   "cell_type": "markdown",
   "id": "d008ead2",
   "metadata": {},
   "source": [
    "## SELECCIÓN DEL MODELO"
   ]
  },
  {
   "cell_type": "markdown",
   "id": "5c9e551e",
   "metadata": {},
   "source": [
    "#### Separación del conjunto de datos en entrenamiento y prueba"
   ]
  },
  {
   "cell_type": "code",
   "execution_count": 25,
   "id": "1ec8cc68",
   "metadata": {},
   "outputs": [
    {
     "name": "stdout",
     "output_type": "stream",
     "text": [
      "Tamaño del conjunto de entrenamiento: (7761, 13)\n",
      "Tamaño del conjunto de prueba: (2587, 13)\n"
     ]
    }
   ],
   "source": [
    "X_train, X_test, y_class_train, y_class_test = train_test_split(\n",
    "    X_oversampled, y_oversampled_class, test_size=0.25, random_state=42\n",
    ")\n",
    "\n",
    "print(\"Tamaño del conjunto de entrenamiento:\", X_train.shape)\n",
    "print(\"Tamaño del conjunto de prueba:\", X_test.shape)"
   ]
  },
  {
   "cell_type": "markdown",
   "id": "0d786efe",
   "metadata": {},
   "source": [
    "### Modelos de clasificación\n",
    "\n",
    "- Random Forest\n",
    "- SVC\n",
    "- XGBoost"
   ]
  },
  {
   "cell_type": "code",
   "execution_count": 26,
   "id": "47436a83",
   "metadata": {},
   "outputs": [],
   "source": [
    "classification_models = {\n",
    "    'Random Forest': RandomForestClassifier(random_state=42),\n",
    "    'SVC': SVC(random_state=42),\n",
    "    'XGBoost': XGBClassifier(random_state=42)\n",
    "}"
   ]
  },
  {
   "cell_type": "markdown",
   "id": "253a42bf",
   "metadata": {},
   "source": [
    "### Evaluación del rendimiento de los modelos mediante métricas\n",
    "#### Clasificación\n",
    "- **Precisión:** Mide la proporción de predicciones correctas (tanto positivas como negativas) entre el total de casos examinados. \"¿Qué porcentaje de predicciones son correctas?\"\n",
    "\n",
    "- **F1-score:** Es la media armónica de la precisión y la recuperación. Proporciona un equilibrio entre la precisión (cuántos casos clasificados como positivos son realmente positivos) y la recuperación (cuántos casos verdaderamente positivos se clasificaron correctamente).\n",
    "\n",
    "- **Matriz de confusión:** Es una tabla que muestra las frecuencias de clasificación para cada clase del modelo. Para un problema de clasificación binaria, la matriz de confusión es una tabla 2x2.\n",
    "<br><br>\n",
    "\n",
    "|                     | **Predicción Negativa** | **Predicción Positiva** |\n",
    "|---------------------|--------------------|---------------------|\n",
    "| **Real Negativa**   | Verdadero Negativo (VN) | Falso Positivo (FP) |\n",
    "| **Real Positiva** | Falso Negativo (FN) | Verdadero Positivo (VP)  |\n",
    "\n",
    "<br><br>\n",
    "- Verdadero Negativo (VN): El modelo predijo correctamente la clase negativa.\n",
    "\n",
    "- Verdadero Positivo (VP): El modelo predijo correctamente la clase positiva.\n",
    "\n",
    "- Falso positivo (FP): El modelo predijo incorrectamente la clase positiva.\n",
    "\n",
    "- Falso negativo (FN): El modelo predijo incorrectamente la clase negativa."
   ]
  },
  {
   "cell_type": "code",
   "execution_count": 27,
   "id": "dd06cb55",
   "metadata": {},
   "outputs": [
    {
     "data": {
      "image/png": "[encoded data removed]",
      "text/plain": [
       "<Figure size 1800x600 with 6 Axes>"
      ]
     },
     "metadata": {},
     "output_type": "display_data"
    },
    {
     "name": "stdout",
     "output_type": "stream",
     "text": [
      "          Modelo  Accuracy  F1-Score\n",
      "0  Random Forest    0.8311    0.8311\n",
      "1            SVC    0.7886    0.7881\n",
      "2        XGBoost    0.8052    0.8049\n"
     ]
    }
   ],
   "source": [
    "\n",
    "results = []\n",
    "\n",
    "num_models = len(classification_models)\n",
    "fig, axes = plt.subplots(1, num_models, figsize=(6 * num_models, 6))  \n",
    "\n",
    "if num_models == 1:\n",
    "    axes = [axes]\n",
    "\n",
    "for i, (name, model) in enumerate(classification_models.items()):\n",
    "    model.fit(X_train, y_class_train)\n",
    "    y_pred_class = model.predict(X_test)\n",
    "\n",
    "    acc = accuracy_score(y_class_test, y_pred_class)\n",
    "    f1 = f1_score(y_class_test, y_pred_class, average='weighted')\n",
    "\n",
    "    results.append({\n",
    "        'Modelo': name,\n",
    "        'Accuracy': round(acc, 4),\n",
    "        'F1-Score': round(f1, 4)\n",
    "    })\n",
    "\n",
    "    cm = confusion_matrix(y_class_test, y_pred_class)\n",
    "    sns.heatmap(cm, annot=True, fmt='d', cmap='Blues', ax=axes[i])\n",
    "    axes[i].set_title(f'Matriz de Confusión\\n{name}')\n",
    "    axes[i].set_xlabel('Predicción')\n",
    "    axes[i].set_ylabel('Real')\n",
    "\n",
    "plt.tight_layout()\n",
    "plt.show()\n",
    "\n",
    "df_resultados = pd.DataFrame(results)\n",
    "print(df_resultados)"
   ]
  },
  {
   "cell_type": "markdown",
   "id": "3ab32c60",
   "metadata": {},
   "source": [
    "### Evalución de las métricas\n",
    "\n",
    "| Métrica   | Descripción                                                                 | ¿Mayor es mejor? |\n",
    "|-----------|------------------------------------------------------------------------------|------------------|\n",
    "| Accuracy  | Porcentaje de predicciones correctas sobre el total                         |  ☑️              |\n",
    "| F1-Score  | Media armónica entre precisión y la recuperación                    | ☑️          |\n",
    "\n",
    "Los resultados muestran que, en cuanto a precisión, el modelo `Random Forest` presenta el mejor desempeño de los tres, con valores mayores de precisión y F1-Score que los modelos `SVC` y `XGBoost`. Por lo tanto `Random Forest`, es el modelo más equilibrado y es el que se usará para la exposición de la API.\n",
    "\n"
   ]
  },
  {
   "cell_type": "markdown",
   "id": "c0ed511a",
   "metadata": {},
   "source": [
    "### VALIDACIÓN CRUZADA"
   ]
  },
  {
   "cell_type": "code",
   "execution_count": 28,
   "id": "9c8d72d2",
   "metadata": {},
   "outputs": [
    {
     "name": "stdout",
     "output_type": "stream",
     "text": [
      "Validación cruzada para la clasificación: 0.8268 (+/- 0.0502)\n"
     ]
    }
   ],
   "source": [
    "best_classifier = classification_models['Random Forest']\n",
    "cv_scores = cross_val_score(best_classifier, X_oversampled, y_oversampled_class, cv=5, scoring='accuracy')\n",
    "print(f\"Validación cruzada para la clasificación: {cv_scores.mean():.4f} (+/- {cv_scores.std() * 2:.4f})\")"
   ]
  },
  {
   "cell_type": "markdown",
   "id": "9824a493",
   "metadata": {},
   "source": [
    "### OPTIMIZACIÓN DE HIPERPARÁMETROS"
   ]
  },
  {
   "cell_type": "markdown",
   "id": "ed314b47",
   "metadata": {},
   "source": [
    "**Optimización de los hiperparámetros del modelo de clasificación.**"
   ]
  },
  {
   "cell_type": "code",
   "execution_count": null,
   "id": "9a3df4c0",
   "metadata": {},
   "outputs": [
    {
     "name": "stdout",
     "output_type": "stream",
     "text": [
      "Fitting 5 folds for each of 72 candidates, totalling 360 fits\n",
      "Mejores parámetros para el modelo de clasificación {'max_depth': 20, 'max_features': 'sqrt', 'min_samples_leaf': 1, 'min_samples_split': 2, 'n_estimators': 100}\n",
      "Mejor precisión: 0.8311805044795146\n"
     ]
    }
   ],
   "source": [
    "param_grid_classificator = {\n",
    "    'n_estimators': [100, 200, 300],\n",
    "    'max_depth': [None, 10, 20],\n",
    "    'min_samples_split': [2, 5],\n",
    "    'min_samples_leaf': [1, 2],\n",
    "    'max_features': ['sqrt', 'log2']\n",
    "}\n",
    "\n",
    "grid_search_classificator = GridSearchCV(RandomForestClassifier(random_state=42), param_grid_classificator, cv=5, scoring='accuracy', n_jobs=-1, verbose=2)\n",
    "grid_search_classificator.fit(X_oversampled, y_oversampled_class)\n",
    "\n",
    "\n",
    "print(\"Mejores hiperparámetros para el modelo de clasificación\", grid_search_classificator.best_params_)\n",
    "print(\"Mejor precisión:\", grid_search_classificator.best_score_)"
   ]
  },
  {
   "cell_type": "markdown",
   "id": "e5f8c07f",
   "metadata": {},
   "source": [
    "### EVALUACIÓN DEL MODELO CON LOS DATOS DE PRUEBA"
   ]
  },
  {
   "cell_type": "code",
   "execution_count": 30,
   "id": "56cd7b26",
   "metadata": {},
   "outputs": [
    {
     "name": "stdout",
     "output_type": "stream",
     "text": [
      "Clasificación - Accuracy: 0.9930421337456513\n",
      "Clasificación - F1-score: 0.9930421233492441\n"
     ]
    }
   ],
   "source": [
    "best_classifier = grid_search_classificator.best_estimator_\n",
    "y_pred_class_final = best_classifier.predict(X_test)\n",
    "print(\"Clasificación - Accuracy:\", accuracy_score(y_class_test, y_pred_class_final))\n",
    "print(\"Clasificación - F1-score:\", f1_score(y_class_test, y_pred_class_final, average='weighted'))"
   ]
  },
  {
   "cell_type": "markdown",
   "id": "cd4b9871",
   "metadata": {},
   "source": [
    "### EXPORTACIÓN DE LOS MODELOS ENTRENADOS\n",
    "La extensión para guardar los modelos entrenados es .joblib porque esta optimizda para trabajar con NumPy y scikit-learn.\n",
    "Joblib está específicamente diseñada para serializar objetos que contienen grandes arreglos de datos numéricos."
   ]
  },
  {
   "cell_type": "code",
   "execution_count": 31,
   "id": "8fa04534",
   "metadata": {},
   "outputs": [
    {
     "data": {
      "text/plain": [
       "['c:\\\\Estudio\\\\prueba_tecnica_gestor\\\\code\\\\models\\\\scaler_model.joblib']"
      ]
     },
     "execution_count": 31,
     "metadata": {},
     "output_type": "execute_result"
    }
   ],
   "source": [
    "from joblib import dump\n",
    "\n",
    "dump(best_classifier, PATH_CLASSIFIER_MODEL)\n",
    "dump(scaler, PATH_SCALER_MODEL)\n"
   ]
  }
 ],
 "metadata": {
  "kernelspec": {
   "display_name": ".venv",
   "language": "python",
   "name": "python3"
  },
  "language_info": {
   "codemirror_mode": {
    "name": "ipython",
    "version": 3
   },
   "file_extension": ".py",
   "mimetype": "text/x-python",
   "name": "python",
   "nbconvert_exporter": "python",
   "pygments_lexer": "ipython3",
   "version": "3.11.7"
  }
 },
 "nbformat": 4,
 "nbformat_minor": 5
}
